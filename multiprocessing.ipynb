{
 "cells": [
  {
   "cell_type": "markdown",
   "id": "9d08bce6-6291-46a0-9f14-5866ea520164",
   "metadata": {},
   "source": [
    "# Qn 1"
   ]
  },
  {
   "cell_type": "markdown",
   "id": "98351b93-f18a-40e7-b6b6-f22656cc4f8a",
   "metadata": {},
   "source": [
    "\"\"\" Multiprocessing in puthon is a built in package that allows the system to run multiple processes simultaneouusly. Python multiprocessing process class is an abstraction that sets up another python process provides it to run code and a way for parent application to control execution\"\"\""
   ]
  },
  {
   "cell_type": "markdown",
   "id": "8efb5458-ec3f-484a-b13c-3f4d8b8f7f2c",
   "metadata": {},
   "source": [
    "# Qn 2"
   ]
  },
  {
   "cell_type": "markdown",
   "id": "0f707411-480b-4021-bb0c-2514444c2be0",
   "metadata": {},
   "source": [
    "\"\"\" Multiprocessing execute many processes simulataneously ,multithreading execute many thread simultaneously.Multithreading uses a common address space for all the threads,whereas multiprocessing creates a seperate address space for each process\"\"\""
   ]
  },
  {
   "cell_type": "markdown",
   "id": "16176784-f36f-4f00-aee2-c11a9cfdf2f5",
   "metadata": {},
   "source": [
    "# Qn 3"
   ]
  },
  {
   "cell_type": "code",
   "execution_count": 5,
   "id": "354d8568-9af2-4158-847d-eae3d74a6529",
   "metadata": {},
   "outputs": [
    {
     "name": "stdout",
     "output_type": "stream",
     "text": [
      "this is my main program\n",
      "this is my multiprocessing program\n"
     ]
    }
   ],
   "source": [
    "import multiprocessing\n",
    "\n",
    "def test():\n",
    "    print(\"this is my multiprocessing program\")\n",
    "    \n",
    "if __name__==\"__main__\":\n",
    "    m=multiprocessing.Process(target=test)\n",
    "    print(\"this is my main program\")\n",
    "    m.start()\n",
    "    m.join()\n"
   ]
  },
  {
   "cell_type": "markdown",
   "id": "322609ee-cc1a-4580-80b0-6ca55131d552",
   "metadata": {},
   "source": [
    "# Qn 4"
   ]
  },
  {
   "cell_type": "markdown",
   "id": "6b0d3c58-2a5c-40c1-b25f-9587c3591a58",
   "metadata": {},
   "source": [
    "\"\"\" Python multiprocessing Pool can be used for parallel execution of a across multiple input value ,distributing the input data across processes\"\"\""
   ]
  },
  {
   "cell_type": "markdown",
   "id": "54fe00e5-10fa-44cb-aabc-7c712871554a",
   "metadata": {},
   "source": [
    "# Qn 5"
   ]
  },
  {
   "cell_type": "code",
   "execution_count": null,
   "id": "b0956558-3214-4a56-9bed-22bd7c6179bd",
   "metadata": {},
   "outputs": [],
   "source": []
  }
 ],
 "metadata": {
  "kernelspec": {
   "display_name": "Python 3 (ipykernel)",
   "language": "python",
   "name": "python3"
  },
  "language_info": {
   "codemirror_mode": {
    "name": "ipython",
    "version": 3
   },
   "file_extension": ".py",
   "mimetype": "text/x-python",
   "name": "python",
   "nbconvert_exporter": "python",
   "pygments_lexer": "ipython3",
   "version": "3.10.8"
  }
 },
 "nbformat": 4,
 "nbformat_minor": 5
}
